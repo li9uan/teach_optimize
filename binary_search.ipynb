{
 "cells": [
  {
   "cell_type": "code",
   "execution_count": 5,
   "metadata": {},
   "outputs": [
    {
     "name": "stdout",
     "output_type": "stream",
     "text": [
      " iteration = 1 with root = 5052601.75\n",
      " iteration = 2 with root = 2526300.875\n",
      " iteration = 3 with root = 1263150.4375\n",
      " iteration = 4 with root = 631575.21875\n",
      " iteration = 5 with root = 315787.609375\n",
      " iteration = 6 with root = 157893.8046875\n",
      " iteration = 7 with root = 78946.90234375\n",
      " iteration = 8 with root = 39473.451171875\n",
      " iteration = 9 with root = 19736.7255859375\n",
      " iteration = 10 with root = 9868.36279296875\n",
      " iteration = 11 with root = 4934.181396484375\n",
      " iteration = 12 with root = 2467.0906982421875\n",
      " iteration = 13 with root = 3700.6360473632812\n",
      " iteration = 14 with root = 4317.408721923828\n",
      " iteration = 15 with root = 4625.795059204102\n",
      " iteration = 16 with root = 4471.601890563965\n",
      " iteration = 17 with root = 4548.698474884033\n",
      " iteration = 18 with root = 4510.150182723999\n",
      " iteration = 19 with root = 4490.876036643982\n",
      " iteration = 20 with root = 4500.5131096839905\n",
      " iteration = 21 with root = 4495.694573163986\n",
      " iteration = 22 with root = 4493.285304903984\n",
      " iteration = 23 with root = 4494.489939033985\n",
      " iteration = 24 with root = 4495.092256098986\n",
      " iteration = 25 with root = 4495.393414631486\n",
      " iteration = 26 with root = 4495.543993897736\n",
      " iteration = 27 with root = 4495.619283530861\n",
      " iteration = 28 with root = 4495.581638714299\n",
      " iteration = 29 with root = 4495.60046112258\n",
      " iteration = 30 with root = 4495.591049918439\n",
      " iteration = 31 with root = 4495.59575552051\n",
      " iteration = 32 with root = 4495.598108321545\n",
      " iteration = 33 with root = 4495.599284722062\n",
      " iteration = 34 with root = 4495.5986965218035\n",
      " iteration = 35 with root = 4495.598402421674\n",
      " iteration = 36 with root = 4495.598549471739\n",
      " iteration = 37 with root = 4495.598622996771\n",
      " iteration = 38 with root = 4495.598659759287\n",
      " iteration = 39 with root = 4495.598641378029\n",
      " iteration = 40 with root = 4495.598632187401\n",
      " iteration = 41 with root = 4495.598627592086\n",
      " iteration = 42 with root = 4495.5986252944285\n",
      " iteration = 43 with root = 4495.598626443258\n",
      " iteration = 44 with root = 4495.598625868843\n",
      " iteration = 45 with root = 4495.598625581635\n",
      " iteration = 46 with root = 4495.598625438031\n",
      " iteration = 47 with root = 4495.59862536623\n"
     ]
    }
   ],
   "source": [
    "# binary search\n",
    "def sqrt_binary_search(a, precision=10e-8):\n",
    "  lo, hi = 0.0, max(a, 1.0)\n",
    "  prev, mid = 0, (lo + hi) / 2.0\n",
    "  iter = 0\n",
    "  while abs(mid - prev) > precision:\n",
    "    if mid ** 2 > a:\n",
    "      hi = mid\n",
    "    else:\n",
    "      lo = mid\n",
    "    prev, mid = mid, (lo + hi) / 2.0\n",
    "    iter += 1\n",
    "    print(f' iteration = {iter} with root = {mid}')\n",
    "  return mid, iter\n",
    "\n",
    "[result, iter] = sqrt_binary_search(20210407)"
   ]
  },
  {
   "cell_type": "code",
   "execution_count": null,
   "metadata": {},
   "outputs": [],
   "source": []
  }
 ],
 "metadata": {
  "kernelspec": {
   "display_name": "Python 3",
   "language": "python",
   "name": "python3"
  },
  "language_info": {
   "codemirror_mode": {
    "name": "ipython",
    "version": 3
   },
   "file_extension": ".py",
   "mimetype": "text/x-python",
   "name": "python",
   "nbconvert_exporter": "python",
   "pygments_lexer": "ipython3",
   "version": "3.8.5"
  }
 },
 "nbformat": 4,
 "nbformat_minor": 5
}
