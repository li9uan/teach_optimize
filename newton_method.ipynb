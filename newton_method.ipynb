{
 "cells": [
  {
   "cell_type": "code",
   "execution_count": 5,
   "metadata": {},
   "outputs": [
    {
     "name": "stdout",
     "output_type": "stream",
     "text": [
      " iteration = 1 with root = 5052602.999999951\n",
      " iteration = 2 with root = 2526303.4999994803\n",
      " iteration = 3 with root = 1263155.749995584\n",
      " iteration = 4 with root = 631585.8749641461\n",
      " iteration = 5 with root = 315808.9372121186\n",
      " iteration = 6 with root = 157936.46644497165\n",
      " iteration = 7 with root = 79032.21593482238\n",
      " iteration = 8 with root = 39643.96979414187\n",
      " iteration = 9 with root = 20076.883777089082\n",
      " iteration = 10 with root = 10541.767186045723\n",
      " iteration = 11 with root = 6229.470831923033\n",
      " iteration = 12 with root = 4736.89623389419\n",
      " iteration = 13 with root = 4501.744478326862\n",
      " iteration = 14 with root = 4495.6028205303555\n",
      " iteration = 15 with root = 4495.5986253242845\n",
      " iteration = 16 with root = 4495.598625322327\n"
     ]
    }
   ],
   "source": [
    "# Newton method\n",
    "def sqrt_newton(a, precision=10e-8) : \n",
    "  # Assuming the sqrt of n as n only  \n",
    "  x = a  \n",
    "  iter = 0\n",
    "  # initial value as half\n",
    "  root = (a+1)/2\n",
    "    \n",
    "  while (abs(root - x) > precision) : \n",
    "    x = root \n",
    "    # Calculate with x1 = x0 - f(x0)/f'(x0)  \n",
    "    root = 0.5 * (x + (a / x))   \n",
    "    # Update root  \n",
    "    iter += 1\n",
    "    print(f' iteration = {iter} with root = {root}')    \n",
    "  return root, iter  \n",
    "\n",
    "[result, iter] = sqrt_newton(20210407)"
   ]
  },
  {
   "cell_type": "code",
   "execution_count": null,
   "metadata": {},
   "outputs": [],
   "source": []
  }
 ],
 "metadata": {
  "kernelspec": {
   "display_name": "Python 3",
   "language": "python",
   "name": "python3"
  },
  "language_info": {
   "codemirror_mode": {
    "name": "ipython",
    "version": 3
   },
   "file_extension": ".py",
   "mimetype": "text/x-python",
   "name": "python",
   "nbconvert_exporter": "python",
   "pygments_lexer": "ipython3",
   "version": "3.8.5"
  }
 },
 "nbformat": 4,
 "nbformat_minor": 5
}
